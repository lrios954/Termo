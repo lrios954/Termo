{
 "metadata": {
  "name": "Untitled1"
 },
 "nbformat": 3,
 "nbformat_minor": 0,
 "worksheets": [
  {
   "cells": [
    {
     "cell_type": "code",
     "collapsed": false,
     "input": [
      "%pylab inline\n",
      "import matplotlib.pyplot as plt\n",
      "import numpy as np\n",
      "from numpy import pi"
     ],
     "language": "python",
     "metadata": {},
     "outputs": [
      {
       "output_type": "stream",
       "stream": "stdout",
       "text": [
        "\n",
        "Welcome to pylab, a matplotlib-based Python environment [backend: module://IPython.zmq.pylab.backend_inline].\n",
        "For more information, type 'help(pylab)'.\n"
       ]
      }
     ],
     "prompt_number": 63
    },
    {
     "cell_type": "code",
     "collapsed": false,
     "input": [
      "Datos=np.loadtxt(open('Datos.txt','r'))"
     ],
     "language": "python",
     "metadata": {},
     "outputs": [],
     "prompt_number": 64
    },
    {
     "cell_type": "code",
     "collapsed": false,
     "input": [
      "Nu=Datos[:,0]\n",
      "Bc=Datos[:,1]*(10**-20)"
     ],
     "language": "python",
     "metadata": {},
     "outputs": [],
     "prompt_number": 65
    },
    {
     "cell_type": "code",
     "collapsed": false,
     "input": [
      "Nu"
     ],
     "language": "python",
     "metadata": {},
     "outputs": [
      {
       "output_type": "pyout",
       "prompt_number": 66,
       "text": [
        "array([  2.27,   2.72,   3.18,   3.63,   4.08,   4.54,   4.99,   5.45,\n",
        "         5.9 ,   6.35,   6.81,   7.26,   7.71,   8.17,   8.62,   9.08,\n",
        "         9.53,   9.98,  10.44,  10.89,  11.34,  11.8 ,  12.25,  12.71,\n",
        "        13.16,  13.61,  14.07,  14.52,  14.97,  15.43,  15.88,  16.34,\n",
        "        16.79,  17.24,  17.7 ,  18.15,  18.61,  19.06,  19.51,  19.97,\n",
        "        20.42,  20.87,  21.33])"
       ]
      }
     ],
     "prompt_number": 66
    },
    {
     "cell_type": "code",
     "collapsed": false,
     "input": [
      "Bc"
     ],
     "language": "python",
     "metadata": {},
     "outputs": [
      {
       "output_type": "pyout",
       "prompt_number": 67,
       "text": [
        "array([  2.00723000e-18,   2.49508000e-18,   2.93024000e-18,\n",
        "         3.27770000e-18,   3.54081000e-18,   3.72079000e-18,\n",
        "         3.81493000e-18,   3.83478000e-18,   3.78901000e-18,\n",
        "         3.68833000e-18,   3.54063000e-18,   3.36278000e-18,\n",
        "         3.16076000e-18,   2.93924000e-18,   2.71432000e-18,\n",
        "         2.48239000e-18,   2.25940000e-18,   2.04327000e-18,\n",
        "         1.83262000e-18,   1.63830000e-18,   1.45750000e-18,\n",
        "         1.28835000e-18,   1.13568000e-18,   9.94510000e-19,\n",
        "         8.70360000e-19,   7.58760000e-19,   6.57660000e-19,\n",
        "         5.70080000e-19,   4.92230000e-19,   4.22670000e-19,\n",
        "         3.63520000e-19,   3.10620000e-19,   2.65800000e-19,\n",
        "         2.26440000e-19,   1.92550000e-19,   1.63910000e-19,\n",
        "         1.38110000e-19,   1.17160000e-19,   9.92100000e-20,\n",
        "         8.36400000e-20,   7.08700000e-20,   5.80100000e-20,\n",
        "         4.52300000e-20])"
       ]
      }
     ],
     "prompt_number": 67
    },
    {
     "cell_type": "code",
     "collapsed": false,
     "input": [],
     "language": "python",
     "metadata": {},
     "outputs": [],
     "prompt_number": 67
    },
    {
     "cell_type": "code",
     "collapsed": false,
     "input": [
      "h=6.62*10**(-34)\n",
      "c=3*10**8\n"
     ],
     "language": "python",
     "metadata": {},
     "outputs": [],
     "prompt_number": 68
    },
    {
     "cell_type": "code",
     "collapsed": false,
     "input": [
      "x=np.empty(0)\n",
      "for i in range (len(Nu)-1):\n",
      "    rta=(2*h*c*(Nu[i])**3)/Bc[i]\n",
      "    rta2=np.log(rta+1);\n",
      "    x=np.append(rta2,x);\n",
      "    \n",
      "x"
     ],
     "language": "python",
     "metadata": {},
     "outputs": [
      {
       "output_type": "pyout",
       "prompt_number": 70,
       "text": [
        "array([  6.03804442e-02,   4.66177994e-02,   3.71230210e-02,\n",
        "         2.92986722e-02,   2.32033283e-02,   1.83666044e-02,\n",
        "         1.43848817e-02,   1.13740031e-02,   8.94794709e-03,\n",
        "         7.04814722e-03,   5.56323467e-03,   4.36600284e-03,\n",
        "         3.44633125e-03,   2.70345647e-03,   2.13064227e-03,\n",
        "         1.68083493e-03,   1.31884201e-03,   1.03956638e-03,\n",
        "         8.19707158e-04,   6.42720209e-04,   5.06420675e-04,\n",
        "         3.97332013e-04,   3.13062800e-04,   2.46595283e-04,\n",
        "         1.93211579e-04,   1.52146434e-04,   1.19776264e-04,\n",
        "         9.37237460e-05,   7.36926812e-05,   5.75928204e-05,\n",
        "         4.51971272e-05,   3.54292809e-05,   2.75736753e-05,\n",
        "         2.15295448e-05,   1.67669725e-05,   1.29366400e-05,\n",
        "         9.98940152e-06,   7.61878032e-06,   5.79640410e-06,\n",
        "         4.35899590e-06,   3.20354465e-06,   2.31467046e-06])"
       ]
      }
     ],
     "prompt_number": 70
    },
    {
     "cell_type": "code",
     "collapsed": false,
     "input": [
      "len(Nu) \n"
     ],
     "language": "python",
     "metadata": {},
     "outputs": [
      {
       "output_type": "pyout",
       "prompt_number": 60,
       "text": [
        "43"
       ]
      }
     ],
     "prompt_number": 60
    },
    {
     "cell_type": "code",
     "collapsed": false,
     "input": [
      "len(x)"
     ],
     "language": "python",
     "metadata": {},
     "outputs": [
      {
       "output_type": "pyout",
       "prompt_number": 61,
       "text": [
        "42"
       ]
      }
     ],
     "prompt_number": 61
    },
    {
     "cell_type": "code",
     "collapsed": false,
     "input": [
      "x=np.savetxt('out.txt',x)\n"
     ],
     "language": "python",
     "metadata": {},
     "outputs": [],
     "prompt_number": 62
    },
    {
     "cell_type": "code",
     "collapsed": false,
     "input": [
      "y=np.savetxt('out2.txt',Nu)"
     ],
     "language": "python",
     "metadata": {},
     "outputs": [],
     "prompt_number": 50
    },
    {
     "cell_type": "code",
     "collapsed": false,
     "input": [
      "plt.plot(Nu)"
     ],
     "language": "python",
     "metadata": {},
     "outputs": [
      {
       "output_type": "pyout",
       "prompt_number": 51,
       "text": [
        "[<matplotlib.lines.Line2D at 0xb4cb3ec>]"
       ]
      },
      {
       "output_type": "display_data",
       "png": "[encoded data removed]"
      }
     ],
     "prompt_number": 51
    },
    {
     "cell_type": "code",
     "collapsed": false,
     "input": [
      "plt.plot(x)"
     ],
     "language": "python",
     "metadata": {},
     "outputs": [
      {
       "output_type": "pyout",
       "prompt_number": 52,
       "text": [
        "[<matplotlib.lines.Line2D at 0xb671a0c>]"
       ]
      },
      {
       "output_type": "display_data",
       "png": "[encoded data removed]"
      }
     ],
     "prompt_number": 52
    },
    {
     "cell_type": "code",
     "collapsed": false,
     "input": [],
     "language": "python",
     "metadata": {},
     "outputs": [],
     "prompt_number": 208
    },
    {
     "cell_type": "code",
     "collapsed": false,
     "input": [],
     "language": "python",
     "metadata": {},
     "outputs": [],
     "prompt_number": 208
    },
    {
     "cell_type": "code",
     "collapsed": false,
     "input": [],
     "language": "python",
     "metadata": {},
     "outputs": []
    }
   ],
   "metadata": {}
  }
 ]
}