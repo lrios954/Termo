{
 "metadata": {
  "name": "Termo1"
 },
 "nbformat": 3,
 "nbformat_minor": 0,
 "worksheets": [
  {
   "cells": [
    {
     "cell_type": "code",
     "collapsed": false,
     "input": [
      "%pylab inline\n",
      "import matplotlib.pyplot as plt\n",
      "import numpy as np\n",
      "from numpy import pi"
     ],
     "language": "python",
     "metadata": {},
     "outputs": [
      {
       "output_type": "stream",
       "stream": "stdout",
       "text": [
        "\n",
        "Welcome to pylab, a matplotlib-based Python environment [backend: module://IPython.zmq.pylab.backend_inline].\n",
        "For more information, type 'help(pylab)'.\n"
       ]
      }
     ],
     "prompt_number": 62
    },
    {
     "cell_type": "code",
     "collapsed": false,
     "input": [
      "t=np.loadtxt(open('Datos.txt','r'))"
     ],
     "language": "python",
     "metadata": {},
     "outputs": [],
     "prompt_number": 63
    },
    {
     "cell_type": "code",
     "collapsed": false,
     "input": [
      "c=3E8;\n",
      "h=6.626*(10**(-34));\n",
      "#k=1.28*10**-23;\n",
      "C2=2*h*c;\n",
      "#C3=(k/h);\n"
     ],
     "language": "python",
     "metadata": {},
     "outputs": [],
     "prompt_number": 64
    },
    {
     "cell_type": "code",
     "collapsed": false,
     "input": [
      "#se filtran los datos en diferentes vectores.\n",
      "Nu=t[:,0]*100\n",
      "B=t[:,1]*(10**-20)\n",
      "ResidualMonopoleS=t[:,2]\n",
      "SpectrumUncertain=t[:,3]\n",
      "modelGalaxySpectrum=t[:,4]\n",
      "\n",
      "#numero de datos\n",
      "size=shape(Nu)[0]"
     ],
     "language": "python",
     "metadata": {},
     "outputs": [],
     "prompt_number": 65
    },
    {
     "cell_type": "code",
     "collapsed": false,
     "input": [
      "chanchan=np.empty(0);\n",
      "for i in range(size):\n",
      "\n",
      "    Con1=(C2*((Nu[i])**3)/(B[i]))\n",
      "    rta=Con1+1.0;     \n",
      "    rta2=np.log(rta);   \n",
      "    chanchan=np.append(chanchan,rta2);\n",
      "chanchan"
     ],
     "language": "python",
     "metadata": {},
     "outputs": [
      {
       "output_type": "pyout",
       "prompt_number": 66,
       "text": [
        "array([  1.19899173,   1.43661985,   1.67951535,   1.91716883,\n",
        "         2.15474781,   2.39775938,   2.63536831,   2.87820413,\n",
        "         3.11570358,   3.3533734 ,   3.59627118,   3.83382606,\n",
        "         4.07153096,   4.31431228,   4.55190746,   4.79489761,\n",
        "         5.03237015,   5.26994556,   5.51282057,   5.75065205,\n",
        "         5.9883877 ,   6.23049726,   6.46848958,   6.71148057,\n",
        "         6.94894483,   7.18683156,   7.42938613,   7.6666185 ,\n",
        "         7.90491337,   8.14798449,   8.38492123,   8.62780291,\n",
        "         8.86509338,   9.1046738 ,   9.34577126,   9.58210901,\n",
        "         9.82844651,  10.0646236 ,  10.30092212,  10.54154385,\n",
        "        10.77406403,  11.03968467,  11.3539406 ])"
       ]
      }
     ],
     "prompt_number": 66
    },
    {
     "cell_type": "code",
     "collapsed": false,
     "input": [
      "plt.plot(Nu,chanchan,'k,')\n",
      "ax = axes()\n",
      "ax.set_xlabel(\"$1/cm$\",fontsize=20)\n",
      "ax.set_ylabel(\"$MJy/sr$\",fontsize=20)"
     ],
     "language": "python",
     "metadata": {},
     "outputs": [
      {
       "output_type": "pyout",
       "prompt_number": 67,
       "text": [
        "<matplotlib.text.Text at 0xb10c96c>"
       ]
      },
      {
       "output_type": "display_data",
       "png": "[encoded data removed]"
      }
     ],
     "prompt_number": 67
    },
    {
     "cell_type": "code",
     "collapsed": false,
     "input": [
      "DAT = np.column_stack((Nu,chanchan))\n",
      "np.savetxt('out.txt',DAT, delimiter=\" \",fmt=\"%f\")"
     ],
     "language": "python",
     "metadata": {},
     "outputs": [],
     "prompt_number": 60
    },
    {
     "cell_type": "code",
     "collapsed": false,
     "input": [
      "chanchan"
     ],
     "language": "python",
     "metadata": {},
     "outputs": [
      {
       "output_type": "pyout",
       "prompt_number": 61,
       "text": [
        "array([  1.19899173,   1.43661985,   1.67951535,   1.91716883,\n",
        "         2.15474781,   2.39775938,   2.63536831,   2.87820413,\n",
        "         3.11570358,   3.3533734 ,   3.59627118,   3.83382606,\n",
        "         4.07153096,   4.31431228,   4.55190746,   4.79489761,\n",
        "         5.03237015,   5.26994556,   5.51282057,   5.75065205,\n",
        "         5.9883877 ,   6.23049726,   6.46848958,   6.71148057,\n",
        "         6.94894483,   7.18683156,   7.42938613,   7.6666185 ,\n",
        "         7.90491337,   8.14798449,   8.38492123,   8.62780291,\n",
        "         8.86509338,   9.1046738 ,   9.34577126,   9.58210901,\n",
        "         9.82844651,  10.0646236 ,  10.30092212,  10.54154385,\n",
        "        10.77406403,  11.03968467,  11.3539406 ])"
       ]
      }
     ],
     "prompt_number": 61
    },
    {
     "cell_type": "code",
     "collapsed": false,
     "input": [],
     "language": "python",
     "metadata": {},
     "outputs": []
    }
   ],
   "metadata": {}
  }
 ]
}